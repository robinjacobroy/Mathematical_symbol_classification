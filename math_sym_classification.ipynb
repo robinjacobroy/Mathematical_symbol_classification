{
  "nbformat": 4,
  "nbformat_minor": 0,
  "metadata": {
    "colab": {
      "provenance": [],
      "include_colab_link": true
    },
    "kernelspec": {
      "name": "python3",
      "display_name": "Python 3"
    },
    "language_info": {
      "name": "python"
    },
    "accelerator": "GPU"
  },
  "cells": [
    {
      "cell_type": "markdown",
      "metadata": {
        "id": "view-in-github",
        "colab_type": "text"
      },
      "source": [
        "<a href=\"https://colab.research.google.com/github/robinjacobroy/Mathematical_symbol_classification/blob/main/math_sym_classification.ipynb\" target=\"_parent\"><img src=\"https://colab.research.google.com/assets/colab-badge.svg\" alt=\"Open In Colab\"/></a>"
      ]
    },
    {
      "cell_type": "markdown",
      "metadata": {
        "id": "WHvRLLMMBhXg"
      },
      "source": [
        "\n",
        "\n",
        "\n",
        "# ```Download the data ```\n",
        "\n"
      ]
    },
    {
      "cell_type": "code",
      "metadata": {
        "colab": {
          "base_uri": "https://localhost:8080/"
        },
        "id": "BQddtwcOfXPt",
        "outputId": "513de465-680c-4c14-b59a-4a187a25566a"
      },
      "source": [
        "!wget -c 'https://www.inftyproject.org/download/inftydb/InftyMDB-1.zip'"
      ],
      "execution_count": 1,
      "outputs": [
        {
          "output_type": "stream",
          "name": "stdout",
          "text": [
            "--2023-08-24 13:35:35--  https://www.inftyproject.org/download/inftydb/InftyMDB-1.zip\n",
            "Resolving www.inftyproject.org (www.inftyproject.org)... 153.126.189.150\n",
            "Connecting to www.inftyproject.org (www.inftyproject.org)|153.126.189.150|:443... connected.\n",
            "HTTP request sent, awaiting response... 200 OK\n",
            "Length: 19221789 (18M) [application/zip]\n",
            "Saving to: ‘InftyMDB-1.zip’\n",
            "\n",
            "InftyMDB-1.zip      100%[===================>]  18.33M  8.49MB/s    in 2.2s    \n",
            "\n",
            "2023-08-24 13:35:38 (8.49 MB/s) - ‘InftyMDB-1.zip’ saved [19221789/19221789]\n",
            "\n"
          ]
        }
      ]
    },
    {
      "cell_type": "code",
      "metadata": {
        "id": "qUSwr-nafg2z"
      },
      "source": [
        "#unzip silently\n",
        "!unzip InftyMDB-1.zip > /content/null.txt 2>&1"
      ],
      "execution_count": 2,
      "outputs": []
    },
    {
      "cell_type": "markdown",
      "metadata": {
        "id": "llP4b6mODz0k"
      },
      "source": [
        "# ```Prepare the training data```"
      ]
    },
    {
      "cell_type": "code",
      "metadata": {
        "id": "qIplhcW0fnQm"
      },
      "source": [
        "# Create an empty Directory to extract the training data\n",
        "!rm -rf Images; mkdir Images"
      ],
      "execution_count": 3,
      "outputs": []
    },
    {
      "cell_type": "code",
      "metadata": {
        "colab": {
          "base_uri": "https://localhost:8080/"
        },
        "id": "XrT-TlMffro9",
        "outputId": "b1f74592-efbf-46db-e0ac-85a7f0ebfc1b"
      },
      "source": [
        "# Extract characters from book pages\n",
        "\n",
        "import pandas as pd\n",
        "import cv2\n",
        "from PIL import ImageOps\n",
        "import os\n",
        "from PIL import Image\n",
        "import numpy as np\n",
        "import csv\n",
        "from tqdm import tqdm\n",
        "import random\n",
        "from sklearn.preprocessing import LabelEncoder\n",
        "from sklearn.preprocessing import OneHotEncoder\n",
        "\n",
        "df = pd.read_csv(\"database/recognition.csv\", sep =',',\\\n",
        "                 names= ['recres', 'num', 'x1', 'y1', 'x2', 'y2', 'matflag', 'lnktype', 'charID', 'charname', 'charcat', 'ascii' ])\n",
        "\n",
        "Flag = True\n",
        "for index, row in tqdm(df.iterrows()):\n",
        "\n",
        "    if row.iloc[2] == \"CorrectRecognition\" :\n",
        "        Flag = True\n",
        "    elif row.iloc[2] == \"Misrecognition\" :\n",
        "        Flag = False\n",
        "    if not Flag :\n",
        "        continue\n",
        "    if Flag:\n",
        "        if row.iloc[2] == \"CorrectRecognition\":\n",
        "            i_num = \"%04d\"%row.iloc[1]\n",
        "            image = np.array(Image.open(f\"database/img/img{i_num}.gif\"))\n",
        "            continue\n",
        "        else:\n",
        "            posx = np.random.random()\n",
        "            posy = np.random.random()\n",
        "            x_init = int(row.iloc[2])\n",
        "            y_init = int(row.iloc[3])\n",
        "            x_fin = int(row.iloc[4])\n",
        "            y_fin = int(row.iloc[5])\n",
        "            char_ini = image[ y_init:y_fin, x_init:x_fin]\n",
        "            _, charr = cv2.threshold(char_ini, 0, 255, cv2.THRESH_BINARY_INV\\\n",
        "                                     | cv2.THRESH_OTSU)\n",
        "            tar_shape = (max(charr.shape[:2]),max(charr.shape[:2]))\n",
        "            imp = ImageOps.pad(Image.fromarray(charr),tar_shape, \\\n",
        "                               method=3, color=(0), centering=(0.5,0.5))\n",
        "            cv2.imwrite(f\"Images/{row.iloc[9]}_{index}.png\", np.array(imp))"
      ],
      "execution_count": null,
      "outputs": [
        {
          "output_type": "stream",
          "text": [
            "96844it [00:38, 2539.53it/s]\n"
          ],
          "name": "stderr"
        }
      ]
    },
    {
      "cell_type": "code",
      "metadata": {
        "colab": {
          "base_uri": "https://localhost:8080/"
        },
        "id": "tZlTbMQRfwBP",
        "outputId": "e4ef4c1f-59ab-41ba-8b84-dc10df3318bd"
      },
      "source": [
        "#Extract characters from book pages\n",
        "df_corr = pd.read_csv(\"database/correction.csv\", sep =',',\\\n",
        "                 names= ['recres', 'num', 'x1', 'y1', 'x2', 'y2', 'matflag', 'lnktype', 'charID', 'charname', 'charcat', 'ascii' ])\n",
        "\n",
        "for indx, row in tqdm(df_corr.iterrows()):\n",
        "    if row.iloc[2] == 'Correction':\n",
        "        i_num = \"%04d\"%row.iloc[1]\n",
        "        image = np.array(Image.open(f\"database/img/img{i_num}.gif\"))\n",
        "        continue\n",
        "\n",
        "    x_init = int(row.iloc[2])\n",
        "    y_init = int(row.iloc[3])\n",
        "    x_fin = int(row.iloc[4])\n",
        "    y_fin = int(row.iloc[5])\n",
        "    char_ini = image[ y_init:y_fin, x_init:x_fin]\n",
        "\n",
        "    if 0 not in char_ini.shape:\n",
        "        posx = np.random.random()#.choice([(0,0),(0.5,0.5),(1,1)])\n",
        "        posy =np.random.random()\n",
        "        _, charr = cv2.threshold(char_ini, 0, 255, cv2.THRESH_BINARY_INV | cv2.THRESH_OTSU)\n",
        "        tar_shape = (max(charr.shape[:2]), max(charr.shape[:2]))\n",
        "        imp = ImageOps.pad(Image.fromarray(charr),tar_shape,\\\n",
        "                           method=3, color=(0), centering=(0.5,0.5))\n",
        "        index+=1\n",
        "        cv2.imwrite(f\"Images/{row.iloc[9]}_{index}.png\", np.array(imp))"
      ],
      "execution_count": null,
      "outputs": [
        {
          "output_type": "stream",
          "text": [
            "35351it [00:19, 1829.16it/s]\n"
          ],
          "name": "stderr"
        }
      ]
    },
    {
      "cell_type": "code",
      "metadata": {
        "id": "DO_EBdhcf3Fo"
      },
      "source": [
        "# put each characters into respective folders\n",
        "import shutil\n",
        "old = None\n",
        "for image in sorted(os.listdir('Images/')):\n",
        "    new = image.rpartition('_')[0]\n",
        "\n",
        "    if new != old:\n",
        "        os.mkdir(f\"Images/{new}\")\n",
        "        shutil.move(f\"Images/{image}\", f\"Images/{new}\")\n",
        "\n",
        "    elif new == old:\n",
        "        shutil.move(f\"Images/{image}\", f\"Images/{new}\")\n",
        "    old = new"
      ],
      "execution_count": null,
      "outputs": []
    },
    {
      "cell_type": "code",
      "metadata": {
        "colab": {
          "base_uri": "https://localhost:8080/"
        },
        "id": "LD4fein3gA__",
        "outputId": "2ba73b90-9a70-4676-c386-665c069dc536"
      },
      "source": [
        "len(os.listdir(\"Images/\"))"
      ],
      "execution_count": null,
      "outputs": [
        {
          "output_type": "execute_result",
          "data": {
            "text/plain": [
              "231"
            ]
          },
          "metadata": {
            "tags": []
          },
          "execution_count": 7
        }
      ]
    },
    {
      "cell_type": "code",
      "metadata": {
        "id": "aKle8VHggEk9"
      },
      "source": [
        "#delete directories having less than 10 images\n",
        "for diry in os.listdir(\"Images\"):\n",
        "  if len(os.listdir(f\"Images/{diry}\"))< 10:\n",
        "    shutil.rmtree(f\"Images/{diry}\")\n"
      ],
      "execution_count": null,
      "outputs": []
    },
    {
      "cell_type": "code",
      "metadata": {
        "colab": {
          "base_uri": "https://localhost:8080/"
        },
        "id": "DUlKFm2tgIPu",
        "outputId": "c3e61f74-3506-4d0a-cdd0-fdd97bd98efd"
      },
      "source": [
        "len(os.listdir(\"Images/\"))"
      ],
      "execution_count": null,
      "outputs": [
        {
          "output_type": "execute_result",
          "data": {
            "text/plain": [
              "180"
            ]
          },
          "metadata": {
            "tags": []
          },
          "execution_count": 9
        }
      ]
    },
    {
      "cell_type": "markdown",
      "metadata": {
        "id": "rgePbAmdEZaO"
      },
      "source": [
        "# ```Data Visualisation and set model hyperparametes ```"
      ]
    },
    {
      "cell_type": "code",
      "metadata": {
        "id": "cyuzy6DRgLlg"
      },
      "source": [
        "import matplotlib.pyplot as plt\n",
        "import numpy as np\n",
        "import os\n",
        "import PIL\n",
        "import tensorflow as tf\n",
        "\n",
        "from tensorflow import keras\n",
        "from tensorflow.keras import layers\n",
        "from tensorflow.keras.models import Sequential"
      ],
      "execution_count": null,
      "outputs": []
    },
    {
      "cell_type": "code",
      "metadata": {
        "id": "0OVDZNrigl70"
      },
      "source": [
        "batch_size = 16\n",
        "img_height = 28\n",
        "img_width = 28\n",
        "data_dir = \"Images/\""
      ],
      "execution_count": null,
      "outputs": []
    },
    {
      "cell_type": "code",
      "metadata": {
        "colab": {
          "base_uri": "https://localhost:8080/"
        },
        "id": "DffHwATFpjV4",
        "outputId": "19b000ff-4496-42e1-f036-b536990e1788"
      },
      "source": [
        "#split 75% of data for training\n",
        "train_ds = tf.keras.preprocessing.image_dataset_from_directory(\n",
        "  data_dir,\n",
        "  validation_split=0.25,\n",
        "  subset=\"training\",\n",
        "  seed=123,\n",
        "  image_size=(img_height, img_width),\n",
        "  color_mode = \"grayscale\",\n",
        "  batch_size=batch_size)"
      ],
      "execution_count": null,
      "outputs": [
        {
          "output_type": "stream",
          "text": [
            "Found 91144 files belonging to 180 classes.\n",
            "Using 68358 files for training.\n"
          ],
          "name": "stdout"
        }
      ]
    },
    {
      "cell_type": "code",
      "metadata": {
        "colab": {
          "base_uri": "https://localhost:8080/"
        },
        "id": "cmxQLKy9p0Au",
        "outputId": "05ca33f0-f332-4059-d2ca-b3a3d6f19672"
      },
      "source": [
        "#remaining 25% data for validation\n",
        "val_ds = tf.keras.preprocessing.image_dataset_from_directory(\n",
        "  data_dir,\n",
        "  validation_split=0.25,\n",
        "  subset=\"validation\",\n",
        "  seed=123,\n",
        "  color_mode = \"grayscale\",\n",
        "  image_size=(img_height, img_width),\n",
        "  batch_size=batch_size)"
      ],
      "execution_count": null,
      "outputs": [
        {
          "output_type": "stream",
          "text": [
            "Found 91144 files belonging to 180 classes.\n",
            "Using 22786 files for validation.\n"
          ],
          "name": "stdout"
        }
      ]
    },
    {
      "cell_type": "code",
      "metadata": {
        "colab": {
          "base_uri": "https://localhost:8080/"
        },
        "id": "KuHw8cdKp41H",
        "outputId": "131b6118-0efb-484b-81e7-1add73fc772b"
      },
      "source": [
        "class_names = train_ds.class_names\n",
        "print(class_names)"
      ],
      "execution_count": null,
      "outputs": [
        {
          "output_type": "stream",
          "text": [
            "['A', 'B', 'BigLeftPar', 'BigRightPar', 'C', 'D', 'Delta', 'E', 'Ext', 'F', 'G', 'Gamma', 'H', 'Hom', 'I', 'Im', 'J', 'K', 'L', 'Lambda', 'LeftPar', 'M', 'MiddleLeftPar', 'MiddleRightPar', 'N', 'O', 'Omega', 'P', 'Phi', 'Q', 'R', 'Re', 'Res', 'RightPar', 'S', 'Sigma', 'T', 'Theta', 'U', 'V', 'W', 'X', 'Y', 'Z', 'a', 'alpha', 'arg', 'ast', 'b', 'backslash', 'beta', 'bigcup', 'bigoplus', 'c', 'cap', 'cdot', 'cdots', 'check', 'chi', 'circ', 'colon', 'comma', 'cong', 'cup', 'd', 'deg', 'delta', 'det', 'dim', 'dot', 'doubleprime', 'e', 'eight', 'epsilon', 'equal', 'equiv', 'eta', 'exclamation', 'exp', 'f', 'five', 'four', 'frac', 'g', 'gamma', 'geq', 'geqq', 'greater', 'h', 'hat', 'i', 'in', 'infinity', 'int', 'iota', 'j', 'k', 'l', 'lambda', 'langle', 'ldots', 'leq', 'leqq', 'less', 'lim', 'ln', 'log', 'm', 'mapsto', 'max', 'min', 'minus', 'mu', 'n', 'nabla', 'neg', 'nine', 'notequal', 'notin', 'nu', 'o', 'omega', 'one', 'oplus', 'otimes', 'overline', 'p', 'partial', 'period', 'perp', 'phi', 'pi', 'plus', 'pm', 'prec', 'prime', 'prod', 'psi', 'q', 'r', 'rangle', 'rho', 'rightarrow', 's', 'semicolon', 'seven', 'sigma', 'sim', 'six', 'slash', 'sqrt', 'subset', 'sum', 'sup', 'supset', 't', 'tau', 'theta', 'three', 'tilde', 'times', 'two', 'u', 'underline', 'v', 'varepsilon', 'varliminf', 'varlimsup', 'varphi', 'varrho', 'vec', 'vert', 'w', 'wedge', 'x', 'xi', 'y', 'z', 'zero', 'zeta']\n"
          ],
          "name": "stdout"
        }
      ]
    },
    {
      "cell_type": "code",
      "metadata": {
        "colab": {
          "base_uri": "https://localhost:8080/",
          "height": 591
        },
        "id": "chXe6io_p_vm",
        "outputId": "b63b59f9-0a45-4e99-a6f6-ec5f581e4f8f"
      },
      "source": [
        "#Visualise some images in the taining set\n",
        "import matplotlib.pyplot as plt\n",
        "\n",
        "plt.figure(figsize=(10, 10))\n",
        "for images, labels in train_ds.take(1):\n",
        "  for i in range(9):\n",
        "    ax = plt.subplot(3, 3, i + 1)\n",
        "    plt.imshow(np.squeeze(images[i]).astype(\"uint8\"), cmap= 'gray')\n",
        "    plt.title(class_names[labels[i]])\n",
        "    plt.axis(\"off\")"
      ],
      "execution_count": null,
      "outputs": [
        {
          "output_type": "display_data",
          "data": {
            "image/png": "[encoded data removed]",
            "text/plain": [
              "<Figure size 720x720 with 9 Axes>"
            ]
          },
          "metadata": {
            "tags": [],
            "needs_background": "light"
          }
        }
      ]
    },
    {
      "cell_type": "code",
      "metadata": {
        "colab": {
          "base_uri": "https://localhost:8080/"
        },
        "id": "FzEGlHyhqKq2",
        "outputId": "2be5181d-f651-42ff-b64c-61dbdeb7586b"
      },
      "source": [
        "for image_batch, labels_batch in train_ds:\n",
        "  print(image_batch.shape)\n",
        "  print(labels_batch.shape)\n",
        "  break"
      ],
      "execution_count": null,
      "outputs": [
        {
          "output_type": "stream",
          "text": [
            "(16, 28, 28, 1)\n",
            "(16,)\n"
          ],
          "name": "stdout"
        }
      ]
    },
    {
      "cell_type": "code",
      "metadata": {
        "id": "3WFDQkAkqW5F"
      },
      "source": [
        "#settings for memory optimisation\n",
        "AUTOTUNE = tf.data.AUTOTUNE\n",
        "\n",
        "train_ds = train_ds.cache().shuffle(1000).prefetch(buffer_size=AUTOTUNE)\n",
        "val_ds = val_ds.cache().prefetch(buffer_size=AUTOTUNE)"
      ],
      "execution_count": null,
      "outputs": []
    },
    {
      "cell_type": "code",
      "metadata": {
        "id": "FmlB74rmOs9y"
      },
      "source": [
        "#Optional cell for data augmentation using random translations\n",
        "\"\"\"data_augmentation = keras.Sequential(\n",
        "  [\n",
        "    tf.keras.layers.experimental.preprocessing.RandomTranslation(\n",
        "    height_factor=0.05,\n",
        "    width_factor=0.05,\n",
        "    fill_mode='constant',\n",
        "    interpolation=\"bilinear\",\n",
        "    fill_value =255,\n",
        "    input_shape = (img_height,img_width,1)),\n",
        "  ]\n",
        ")\n",
        "plt.figure(figsize=(10, 10))\n",
        "for images, _ in train_ds.take(1):\n",
        "  for i in range(9):\n",
        "    augmented_images = data_augmentation(images)\n",
        "    #print(augmented_images[0].numpy().shape)\n",
        "    ax = plt.subplot(3, 3, i + 1)\n",
        "    plt.imshow(augmented_images[0].numpy().astype(\"uint8\")[:,:,0], cmap = \"gray\")\n",
        "    plt.axis(\"off\")\n",
        "\"\"\";"
      ],
      "execution_count": null,
      "outputs": []
    },
    {
      "cell_type": "code",
      "metadata": {
        "colab": {
          "base_uri": "https://localhost:8080/"
        },
        "id": "jN1xwnrSqevV",
        "outputId": "68fd4540-f068-4a37-f59f-6daf5cd9c0e3"
      },
      "source": [
        "#define the model\n",
        "num_classes = len(os.listdir(\"Images\"))   #180\n",
        "\n",
        "model = Sequential([\n",
        "\n",
        "  layers.experimental.preprocessing.Rescaling(1./255, input_shape = (img_height,img_width,1) ),\n",
        "  layers.Conv2D(32, 3, padding='same', activation='relu', kernel_initializer='he_uniform'),\n",
        "  layers.MaxPooling2D(pool_size=(2, 2)),\n",
        "  layers.Conv2D(32, 3, padding='same', activation='relu', kernel_initializer='he_uniform'),\n",
        "  layers.MaxPooling2D(pool_size=(2, 2)),\n",
        "  layers.Flatten(),\n",
        "  layers.Dense(64, activation='relu',kernel_initializer='he_uniform'),\n",
        "  layers.Dropout(0.2),\n",
        "  #layers.Dense(64, activation='relu'),\n",
        "  layers.Dense(num_classes)\n",
        "])\n",
        "model.summary()\n"
      ],
      "execution_count": null,
      "outputs": [
        {
          "output_type": "stream",
          "text": [
            "Model: \"sequential_3\"\n",
            "_________________________________________________________________\n",
            "Layer (type)                 Output Shape              Param #   \n",
            "=================================================================\n",
            "rescaling_3 (Rescaling)      (None, 28, 28, 1)         0         \n",
            "_________________________________________________________________\n",
            "conv2d_6 (Conv2D)            (None, 28, 28, 32)        320       \n",
            "_________________________________________________________________\n",
            "max_pooling2d_5 (MaxPooling2 (None, 14, 14, 32)        0         \n",
            "_________________________________________________________________\n",
            "conv2d_7 (Conv2D)            (None, 14, 14, 32)        9248      \n",
            "_________________________________________________________________\n",
            "max_pooling2d_6 (MaxPooling2 (None, 7, 7, 32)          0         \n",
            "_________________________________________________________________\n",
            "flatten_3 (Flatten)          (None, 1568)              0         \n",
            "_________________________________________________________________\n",
            "dense_5 (Dense)              (None, 64)                100416    \n",
            "_________________________________________________________________\n",
            "dropout_3 (Dropout)          (None, 64)                0         \n",
            "_________________________________________________________________\n",
            "dense_6 (Dense)              (None, 180)               11700     \n",
            "=================================================================\n",
            "Total params: 121,684\n",
            "Trainable params: 121,684\n",
            "Non-trainable params: 0\n",
            "_________________________________________________________________\n"
          ],
          "name": "stdout"
        }
      ]
    },
    {
      "cell_type": "code",
      "metadata": {
        "id": "SGYCWfmHq9H8"
      },
      "source": [
        "# Early stopping\n",
        "callback = tf.keras.callbacks.EarlyStopping(monitor='val_accuracy', patience=3)\n",
        "sgd = tf.keras.optimizers.SGD(lr=0.01, decay=1e-6, momentum=0.9)\n",
        "model.compile(optimizer=sgd,\n",
        "              loss=tf.keras.losses.SparseCategoricalCrossentropy(from_logits=True),\n",
        "              metrics=['accuracy'])"
      ],
      "execution_count": null,
      "outputs": []
    },
    {
      "cell_type": "code",
      "metadata": {
        "colab": {
          "base_uri": "https://localhost:8080/"
        },
        "id": "-WWdPh65rCxU",
        "outputId": "fc10aa3c-8035-4b25-85df-3b88563dcd6e"
      },
      "source": [
        "epochs = 15\n",
        "history = model.fit(\n",
        "  train_ds,\n",
        "  validation_data=val_ds,\n",
        "  epochs=epochs,\n",
        "  callbacks=[callback]\n",
        ")"
      ],
      "execution_count": null,
      "outputs": [
        {
          "output_type": "stream",
          "text": [
            "Epoch 1/15\n",
            "4273/4273 [==============================] - 22s 5ms/step - loss: 0.9124 - accuracy: 0.8009 - val_loss: 0.1142 - val_accuracy: 0.9676\n",
            "Epoch 2/15\n",
            "4273/4273 [==============================] - 21s 5ms/step - loss: 0.1492 - accuracy: 0.9557 - val_loss: 0.0936 - val_accuracy: 0.9715\n",
            "Epoch 3/15\n",
            "4273/4273 [==============================] - 22s 5ms/step - loss: 0.1165 - accuracy: 0.9657 - val_loss: 0.0893 - val_accuracy: 0.9733\n",
            "Epoch 4/15\n",
            "4273/4273 [==============================] - 21s 5ms/step - loss: 0.0993 - accuracy: 0.9687 - val_loss: 0.0845 - val_accuracy: 0.9753\n",
            "Epoch 5/15\n",
            "4273/4273 [==============================] - 21s 5ms/step - loss: 0.0906 - accuracy: 0.9715 - val_loss: 0.0820 - val_accuracy: 0.9758\n",
            "Epoch 6/15\n",
            "4273/4273 [==============================] - 22s 5ms/step - loss: 0.0849 - accuracy: 0.9732 - val_loss: 0.0934 - val_accuracy: 0.9715\n",
            "Epoch 7/15\n",
            "4273/4273 [==============================] - 22s 5ms/step - loss: 0.0804 - accuracy: 0.9733 - val_loss: 0.0798 - val_accuracy: 0.9767\n",
            "Epoch 8/15\n",
            "4273/4273 [==============================] - 21s 5ms/step - loss: 0.0791 - accuracy: 0.9744 - val_loss: 0.0810 - val_accuracy: 0.9761\n",
            "Epoch 9/15\n",
            "4273/4273 [==============================] - 21s 5ms/step - loss: 0.0746 - accuracy: 0.9753 - val_loss: 0.0849 - val_accuracy: 0.9753\n",
            "Epoch 10/15\n",
            "4273/4273 [==============================] - 21s 5ms/step - loss: 0.0694 - accuracy: 0.9773 - val_loss: 0.0840 - val_accuracy: 0.9767\n"
          ],
          "name": "stdout"
        }
      ]
    },
    {
      "cell_type": "code",
      "metadata": {
        "colab": {
          "base_uri": "https://localhost:8080/",
          "height": 499
        },
        "id": "jCEyoAyhrF30",
        "outputId": "34dce896-ecac-47c2-f388-8b7955c21dc0"
      },
      "source": [
        "#Visualise the model performance\n",
        "acc = history.history['accuracy']\n",
        "val_acc = history.history['val_accuracy']\n",
        "\n",
        "loss = history.history['loss']\n",
        "val_loss = history.history['val_loss']\n",
        "\n",
        "epochs_range = range(callback.stopped_epoch+1)#range(epochs)#\n",
        "\n",
        "plt.figure(figsize=(8, 8))\n",
        "plt.subplot(1, 2, 1)\n",
        "plt.plot(epochs_range, acc, label='Training Accuracy')\n",
        "plt.plot(epochs_range, val_acc, label='Validation Accuracy')\n",
        "plt.legend(loc='lower right')\n",
        "plt.title('Training and Validation Accuracy')\n",
        "\n",
        "plt.subplot(1, 2, 2)\n",
        "plt.plot(epochs_range, loss, label='Training Loss')\n",
        "plt.plot(epochs_range, val_loss, label='Validation Loss')\n",
        "plt.legend(loc='upper right')\n",
        "plt.title('Training and Validation Loss')\n",
        "plt.show()"
      ],
      "execution_count": null,
      "outputs": [
        {
          "output_type": "display_data",
          "data": {
            "image/png": "[encoded data removed]",
            "text/plain": [
              "<Figure size 576x576 with 2 Axes>"
            ]
          },
          "metadata": {
            "tags": [],
            "needs_background": "light"
          }
        }
      ]
    },
    {
      "cell_type": "code",
      "metadata": {
        "id": "PftkvBDEU3ng",
        "colab": {
          "base_uri": "https://localhost:8080/"
        },
        "outputId": "b86a4b1e-c967-48b4-b9de-d86b457e5ba2"
      },
      "source": [
        "#Download and preprocess the test image...\n",
        "\n",
        "!wget -O integral.png  \"https://external-content.duckduckgo.com/iu/?u=https%3A%2F%2Fi.pinimg.com%2F736x%2Fba%2F55%2Fd2%2Fba55d2328aada2c9176c30eb7c50e0ee--science-art-symbols.jpg&f=1&nofb=1\"\n",
        "import cv2, numpy as np\n",
        "from PIL import ImageOps, Image\n",
        "\n",
        "img = cv2.imread(\"integral.png\",0)\n",
        "_, img_array = cv2.threshold(img, 0, 255, cv2.THRESH_BINARY_INV | cv2.THRESH_OTSU)\n",
        "indices = np.where(img_array == 255)\n",
        "ini = (np.max(indices[1]),np.min(indices[0]))\n",
        "fin = (np.min(indices[1]),np.max(indices[0]))\n",
        "imd = img_array[ini[1]:fin[1], fin[0]:ini[0]]\n",
        "tar_shape = (max(imd.shape[:2]), max(imd.shape[:2]))\n",
        "imp = np.array(ImageOps.pad(Image.fromarray(imd),tar_shape,\\\n",
        "                           method=3, color=(0), centering=(0.5,0.5)))\n",
        "cv2.imwrite(\"integral1.png\", imp)"
      ],
      "execution_count": 4,
      "outputs": [
        {
          "output_type": "stream",
          "name": "stdout",
          "text": [
            "--2023-08-24 13:39:15--  https://external-content.duckduckgo.com/iu/?u=https%3A%2F%2Fi.pinimg.com%2F736x%2Fba%2F55%2Fd2%2Fba55d2328aada2c9176c30eb7c50e0ee--science-art-symbols.jpg&f=1&nofb=1\n",
            "Resolving external-content.duckduckgo.com (external-content.duckduckgo.com)... 40.89.244.234\n",
            "Connecting to external-content.duckduckgo.com (external-content.duckduckgo.com)|40.89.244.234|:443... connected.\n",
            "HTTP request sent, awaiting response... 200 OK\n",
            "Length: unspecified [image/jpeg]\n",
            "Saving to: ‘integral.png’\n",
            "\n",
            "\rintegral.png            [<=>                 ]       0  --.-KB/s               \rintegral.png            [ <=>                ]   8.12K  --.-KB/s    in 0s      \n",
            "\n",
            "2023-08-24 13:39:15 (195 MB/s) - ‘integral.png’ saved [8311]\n",
            "\n"
          ]
        },
        {
          "output_type": "execute_result",
          "data": {
            "text/plain": [
              "True"
            ]
          },
          "metadata": {},
          "execution_count": 4
        }
      ]
    },
    {
      "cell_type": "code",
      "metadata": {
        "id": "Er_NzN8VOC2V",
        "colab": {
          "base_uri": "https://localhost:8080/"
        },
        "outputId": "5cefcb24-b1a9-4a72-84c0-8e9068c2906f"
      },
      "source": [
        "#testing on unseen image\n",
        "classes = np.array(class_names)\n",
        "\n",
        "path = tf.keras.utils.get_file('symbol', origin=\"https://i.stack.imgur.com/vqKoE.png\")\n",
        "\n",
        "img = keras.preprocessing.image.load_img(\n",
        "    \"integral1.png\", target_size=(img_height, img_width), color_mode = \"grayscale\"\n",
        ")\n",
        "img_array = keras.preprocessing.image.img_to_array(img)\n",
        "#_, img_array = cv2.threshold(img_array, 127, 255, cv2.THRESH_BINARY_INV)\n",
        "img_array = tf.expand_dims(img_array, 0) # Create a batch\n",
        "\n",
        "predictions = model.predict(img_array)\n",
        "score = tf.nn.softmax(predictions[0])\n",
        "top = np.argsort(predictions[0])[:-5:-1]\n",
        "for i in range(len(top)):\n",
        "    print(\"{}\".format(classes[top[i]])+\" ({:.3})\".format(score[top[i]]))\n"
      ],
      "execution_count": null,
      "outputs": [
        {
          "output_type": "stream",
          "text": [
            "int (1.0)\n",
            "f (0.000204)\n",
            "slash (4.53e-07)\n",
            "J (3.87e-07)\n"
          ],
          "name": "stdout"
        }
      ]
    },
    {
      "cell_type": "code",
      "metadata": {
        "colab": {
          "base_uri": "https://localhost:8080/"
        },
        "id": "2DHHajunCzOg",
        "outputId": "708151eb-083f-47e2-f434-d123732ebe67"
      },
      "source": [
        "model.save(\"good_model.h5\")\n",
        "!ls"
      ],
      "execution_count": null,
      "outputs": [
        {
          "output_type": "stream",
          "text": [
            "database      equation.png   Images\t     integral1.png  null.txt\n",
            "download.png  good_model.h5  InftyMDB-1.zip  integral.png   sample_data\n"
          ],
          "name": "stdout"
        }
      ]
    },
    {
      "cell_type": "code",
      "metadata": {
        "id": "V65un1p6wn8j",
        "colab": {
          "base_uri": "https://localhost:8080/",
          "height": 1000
        },
        "outputId": "090e709d-6046-4c5a-bbb8-b08395b2eb41"
      },
      "source": [
        "#Prediction using connected component analysis\n",
        "\n",
        "import cv2\n",
        "import numpy as np\n",
        "from PIL import ImageOps, Image\n",
        "import statistics\n",
        "from skimage import io\n",
        "from tensorflow import keras\n",
        "import tensorflow as tf\n",
        "import matplotlib.pyplot as plt\n",
        "%matplotlib inline\n",
        "\n",
        "classes = np.array(['A', 'B', 'BigLeftPar', 'BigRightPar', 'C', 'D', 'Delta', 'E', 'Ext', 'F', 'G', 'Gamma', 'H', 'Hom', 'I', 'Im', 'J', 'K', 'L', 'Lambda', 'LeftPar', 'M',\n",
        "                    'MiddleLeftPar', 'MiddleRightPar', 'N', 'O', 'Omega', 'P', 'Phi', 'Q', 'R', 'Re', 'Res', 'RightPar', 'S', 'Sigma', 'T', 'Theta', 'U', 'V', 'W', 'X', 'Y', 'Z',\n",
        "                    'a', 'alpha', 'arg', 'ast', 'b', 'backslash', 'beta', 'bigcup', 'bigoplus', 'c', 'cap', 'cdot', 'cdots', 'check', 'chi', 'circ', 'colon', 'comma', 'cong',\n",
        "                    'cup', 'd', 'deg', 'delta', 'det', 'dim', 'dot', 'doubleprime', 'e', 'eight', 'epsilon', 'equal', 'equiv', 'eta', 'exclamation', 'exp', 'f', 'five', 'four',\n",
        "                    'frac', 'g', 'gamma', 'geq', 'geqq', 'greater', 'h', 'hat', 'i', 'in', 'infinity', 'int', 'iota', 'j', 'k', 'l', 'lambda', 'langle', 'ldots', 'leq', 'leqq', 'less',\n",
        "                    'lim', 'ln', 'log', 'm', 'mapsto', 'max', 'min', 'minus', 'mu', 'n', 'nabla', 'neg', 'nine', 'notequal', 'notin', 'nu', 'o', 'omega', 'one', 'oplus',\n",
        "                    'otimes', 'overline', 'p', 'partial', 'period', 'perp', 'phi', 'pi', 'plus', 'pm', 'prec', 'prime', 'prod', 'psi', 'q', 'r', 'rangle', 'rho', 'rightarrow',\n",
        "                    's', 'semicolon', 'seven', 'sigma', 'sim', 'six', 'slash', 'sqrt', 'subset', 'sum', 'sup', 'supset', 't', 'tau', 'theta', 'three', 'tilde', 'times', 'two',\n",
        "                    'u', 'underline', 'v', 'varepsilon', 'varliminf', 'varlimsup', 'varphi', 'varrho', 'vec', 'vert', 'w', 'wedge', 'x', 'xi', 'y', 'z', 'zero', 'zeta'])\n",
        "model1 = keras.models.load_model(\"good_model.h5\")\n",
        "url=\"https://external-content.duckduckgo.com/iu/?u=https%3A%2F%2Fi.stack.imgur.com%2Fjg6fe.png&f=1&nofb=1\"\n",
        "img = io.imread(url)\n",
        "#image = cv2.cvtColor(img, cv2.COLOR_RGB2BGR)\n",
        "image = img.copy()#cv2.imread(\"download.png\")\n",
        "gray = cv2.cvtColor(image, cv2.COLOR_BGR2GRAY)\n",
        "thresh = cv2.threshold(gray, 0, 255,\n",
        "    cv2.THRESH_BINARY_INV | cv2.THRESH_OTSU)[1]\n",
        "output = cv2.connectedComponentsWithStats(thresh, 4, cv2.CV_32S)\n",
        "(numLabels, labels, stats, centroids) = output\n",
        "areas = [stats[i, cv2.CC_STAT_AREA] for i in range(1, numLabels) ]\n",
        "th_area = statistics.median(areas)/4\n",
        "x_vals = centroids[:,0]\n",
        "uniques, uniq_idx, counts = np.unique(x_vals,return_index=True,return_counts=True)\n",
        "dbls = x_vals[ uniq_idx[counts>=2] ]\n",
        "dbl_index = np.array([(np.where(x_vals == i)[0]) for i in dbls])\n",
        "print(dbl_index)\n",
        "#iterating over the connected components\n",
        "for i in range(1, numLabels):\n",
        "\n",
        "    area = stats[i, cv2.CC_STAT_AREA]\n",
        "    #ignore if the current component area is less than the threshold area\n",
        "    if area < th_area:\n",
        "        #print(\"area = \", area)\n",
        "        continue\n",
        "\n",
        "    #in case of equal and equality symbols\n",
        "    if len(dbl_index):\n",
        "      if i in dbl_index[:,0]:\n",
        "          for indx in np.where(dbl_index==i):\n",
        "            j = dbl_index[indx[0]]\n",
        "            x1 = stats[j[0], cv2.CC_STAT_LEFT]\n",
        "            y1 = stats[j[0], cv2.CC_STAT_TOP]\n",
        "            x2 = stats[j[1], cv2.CC_STAT_LEFT]\n",
        "            y2 = stats[j[1], cv2.CC_STAT_TOP]\n",
        "            w = stats[j[1], cv2.CC_STAT_WIDTH]\n",
        "            h = stats[j[1], cv2.CC_STAT_HEIGHT]\n",
        "            crop = thresh[y1:y2+h, x1:x2+w]\n",
        "\n",
        "    elif i in dbl_index:\n",
        "        continue\n",
        "    #for unique symbols\n",
        "    else:\n",
        "        x = stats[i, cv2.CC_STAT_LEFT]\n",
        "        y = stats[i, cv2.CC_STAT_TOP]\n",
        "        w = stats[i, cv2.CC_STAT_WIDTH]\n",
        "        h = stats[i, cv2.CC_STAT_HEIGHT]\n",
        "        crop = thresh[y:y+h, x:x+w]\n",
        "    tar_shape = (max(crop.shape[:2]), max(crop.shape[:2]))\n",
        "    imp = np.array(ImageOps.pad(Image.fromarray(crop),tar_shape,\\\n",
        "                           method=3, color=(0), centering=(0.5,0.5)))\n",
        "    img_array = tf.expand_dims(cv2.resize(imp,(28,28)), 0) # Create a batch\n",
        "\n",
        "    predictions = model1.predict(img_array)\n",
        "    score = tf.nn.softmax(predictions[0])\n",
        "    top = np.argsort(predictions[0])[:-3:-1]\n",
        "\n",
        "    print(\"{}\".format(classes[top[0]])+\" ({:.3})\".format(score[top[0]])\\\n",
        "          +\"... second option \"+ \"{}\".format(classes[top[1]])+\" ({:.3})\".format(score[top[1]]))\n",
        "    plt.axis(\"off\")\n",
        "    plt.imshow(imp, cmap = \"gray\")\n",
        "    plt.show()\n"
      ],
      "execution_count": null,
      "outputs": [
        {
          "output_type": "stream",
          "text": [
            "[]\n",
            "l (0.994)... second option vert (0.00377)\n"
          ],
          "name": "stdout"
        },
        {
          "output_type": "display_data",
          "data": {
            "image/png": "[encoded data removed]",
            "text/plain": [
              "<Figure size 432x288 with 1 Axes>"
            ]
          },
          "metadata": {
            "tags": [],
            "needs_background": "light"
          }
        },
        {
          "output_type": "stream",
          "text": [
            "l (0.994)... second option vert (0.00377)\n"
          ],
          "name": "stdout"
        },
        {
          "output_type": "display_data",
          "data": {
            "image/png": "[encoded data removed]",
            "text/plain": [
              "<Figure size 432x288 with 1 Axes>"
            ]
          },
          "metadata": {
            "tags": [],
            "needs_background": "light"
          }
        },
        {
          "output_type": "stream",
          "text": [
            "one (1.0)... second option l (6.25e-06)\n"
          ],
          "name": "stdout"
        },
        {
          "output_type": "display_data",
          "data": {
            "image/png": "[encoded data removed]",
            "text/plain": [
              "<Figure size 432x288 with 1 Axes>"
            ]
          },
          "metadata": {
            "tags": [],
            "needs_background": "light"
          }
        },
        {
          "output_type": "stream",
          "text": [
            "m (1.0)... second option Im (1.42e-10)\n"
          ],
          "name": "stdout"
        },
        {
          "output_type": "display_data",
          "data": {
            "image/png": "[encoded data removed]",
            "text/plain": [
              "<Figure size 432x288 with 1 Axes>"
            ]
          },
          "metadata": {
            "tags": [],
            "needs_background": "light"
          }
        },
        {
          "output_type": "stream",
          "text": [
            "one (1.0)... second option l (6.25e-06)\n"
          ],
          "name": "stdout"
        },
        {
          "output_type": "display_data",
          "data": {
            "image/png": "[encoded data removed]",
            "text/plain": [
              "<Figure size 432x288 with 1 Axes>"
            ]
          },
          "metadata": {
            "tags": [],
            "needs_background": "light"
          }
        },
        {
          "output_type": "stream",
          "text": [
            "m (1.0)... second option Im (1.42e-10)\n"
          ],
          "name": "stdout"
        },
        {
          "output_type": "display_data",
          "data": {
            "image/png": "[encoded data removed]",
            "text/plain": [
              "<Figure size 432x288 with 1 Axes>"
            ]
          },
          "metadata": {
            "tags": [],
            "needs_background": "light"
          }
        },
        {
          "output_type": "stream",
          "text": [
            "rightarrow (1.0)... second option vec (3.93e-07)\n"
          ],
          "name": "stdout"
        },
        {
          "output_type": "display_data",
          "data": {
            "image/png": "[encoded data removed]",
            "text/plain": [
              "<Figure size 432x288 with 1 Axes>"
            ]
          },
          "metadata": {
            "tags": [],
            "needs_background": "light"
          }
        },
        {
          "output_type": "stream",
          "text": [
            "x (1.0)... second option chi (5.3e-09)\n"
          ],
          "name": "stdout"
        },
        {
          "output_type": "display_data",
          "data": {
            "image/png": "[encoded data removed]",
            "text/plain": [
              "<Figure size 432x288 with 1 Axes>"
            ]
          },
          "metadata": {
            "tags": [],
            "needs_background": "light"
          }
        },
        {
          "output_type": "stream",
          "text": [
            "infinity (1.0)... second option supset (2.02e-06)\n"
          ],
          "name": "stdout"
        },
        {
          "output_type": "display_data",
          "data": {
            "image/png": "[encoded data removed]",
            "text/plain": [
              "<Figure size 432x288 with 1 Axes>"
            ]
          },
          "metadata": {
            "tags": [],
            "needs_background": "light"
          }
        },
        {
          "output_type": "stream",
          "text": [
            "rightarrow (1.0)... second option vec (3.93e-07)\n"
          ],
          "name": "stdout"
        },
        {
          "output_type": "display_data",
          "data": {
            "image/png": "[encoded data removed]",
            "text/plain": [
              "<Figure size 432x288 with 1 Axes>"
            ]
          },
          "metadata": {
            "tags": [],
            "needs_background": "light"
          }
        },
        {
          "output_type": "stream",
          "text": [
            "x (1.0)... second option chi (5.3e-09)\n"
          ],
          "name": "stdout"
        },
        {
          "output_type": "display_data",
          "data": {
            "image/png": "[encoded data removed]",
            "text/plain": [
              "<Figure size 432x288 with 1 Axes>"
            ]
          },
          "metadata": {
            "tags": [],
            "needs_background": "light"
          }
        },
        {
          "output_type": "stream",
          "text": [
            "infinity (1.0)... second option supset (2.02e-06)\n"
          ],
          "name": "stdout"
        },
        {
          "output_type": "display_data",
          "data": {
            "image/png": "[encoded data removed]",
            "text/plain": [
              "<Figure size 432x288 with 1 Axes>"
            ]
          },
          "metadata": {
            "tags": [],
            "needs_background": "light"
          }
        }
      ]
    },
    {
      "cell_type": "code",
      "metadata": {
        "id": "ts34k_iAALSk"
      },
      "source": [
        "# function to crop characters using the in-between blank space\n",
        "\n",
        "def crop_chars(disp):\n",
        "\n",
        "    chars = []\n",
        "    for num, i in enumerate(disp[0,:]):\n",
        "        if not np.all(~disp[:, num]):\n",
        "            chars.append(num)\n",
        "    chars = np.array(chars)\n",
        "    stop = np.where(abs(np.diff(chars))>1)[0]\n",
        "    start = np.where(abs(np.diff(chars))>1)[0]+1\n",
        "    sy_stop = chars[stop]\n",
        "    sy_start = chars[start]\n",
        "    for i in range(len(sy_stop)+1):\n",
        "        if i==0:\n",
        "            out = disp[:, chars[0]:sy_stop[0]+1]\n",
        "        elif i == len(sy_stop):\n",
        "            out = disp[:, sy_start[-1]:chars[-1]+1]\n",
        "        else:\n",
        "            out = disp[:, sy_start[i-1]:sy_stop[i]+1]\n",
        "\n",
        "        crop_indi = np.where(out== 255)\n",
        "\n",
        "        min_x = min(crop_indi[0])\n",
        "        max_x = max(crop_indi[0])\n",
        "\n",
        "        if min_x == 0:\n",
        "            output = out[min_x:max_x+1,:]\n",
        "        else:\n",
        "            output = out[min_x-1:max_x+1,:]\n",
        "        if 0 in output.shape :\n",
        "            continue\n",
        "        tar_shape = (max(output.shape[:2]), max(output.shape[:2]))\n",
        "        imp = np.array(ImageOps.pad(Image.fromarray(output),tar_shape,\\\n",
        "                           method=3, color=(0), centering=(0.5,0.5)))\n",
        "\n",
        "        img_array = tf.expand_dims(cv2.resize(imp,(28,28)), 0) # Create a batch\n",
        "\n",
        "        predictions = model1.predict(img_array)\n",
        "        score = tf.nn.softmax(predictions[0])\n",
        "        top = np.argsort(predictions[0])[:-3:-1]\n",
        "\n",
        "        print(\"{}\".format(classes[top[0]])+\" ({:.3})\".format(score[top[0]])\\\n",
        "              +\"... second option --> \"+ \"{}\".format(classes[top[1]])+\" ({:.3})\".format(score[top[1]]))\n",
        "        plt.axis(\"off\")\n",
        "        plt.imshow(imp, cmap = \"gray\")\n",
        "        plt.show()"
      ],
      "execution_count": null,
      "outputs": []
    },
    {
      "cell_type": "code",
      "metadata": {
        "id": "a9z0C6sZMxrM",
        "colab": {
          "base_uri": "https://localhost:8080/",
          "height": 1000
        },
        "outputId": "6244a33e-cb26-4510-f1f0-2c9a3413005b"
      },
      "source": [
        "#prediction using image slicing with blank spaces\n",
        "import cv2\n",
        "import numpy as np\n",
        "from PIL import ImageOps, Image\n",
        "import statistics\n",
        "from skimage import io\n",
        "from tensorflow import keras\n",
        "import tensorflow as tf\n",
        "import matplotlib.pyplot as plt\n",
        "%matplotlib inline\n",
        "\n",
        "classes = np.array(['A', 'B', 'BigLeftPar', 'BigRightPar', 'C', 'D', 'Delta', 'E',\n",
        "                    'Ext', 'F', 'G', 'Gamma', 'H', 'Hom', 'I', 'Im', 'J', 'K', 'L',\n",
        "                    'Lambda', 'LeftPar', 'M', 'MiddleLeftPar', 'MiddleRightPar',\n",
        "                    'N', 'O', 'Omega', 'P', 'Phi', 'Q', 'R', 'Re', 'Res', 'RightPar',\n",
        "                    'S', 'Sigma', 'T', 'Theta', 'U', 'V', 'W', 'X', 'Y', 'Z', 'a',\n",
        "                    'alpha', 'arg', 'ast', 'b', 'backslash', 'beta', 'bigcup',\n",
        "                    'bigoplus', 'c', 'cap', 'cdot', 'cdots', 'check', 'chi', 'circ',\n",
        "                    'colon', 'comma', 'cong', 'cup', 'd', 'deg', 'delta', 'det',\n",
        "                    'dim', 'dot', 'doubleprime', 'e', 'eight', 'epsilon', 'equal',\n",
        "                    'equiv', 'eta', 'exclamation', 'exp', 'f', 'five', 'four', 'frac',\n",
        "                    'g', 'gamma', 'geq', 'geqq', 'greater', 'h', 'hat', 'i', 'in',\n",
        "                    'infinity', 'int', 'iota', 'j', 'k', 'l', 'lambda', 'langle',\n",
        "                    'ldots', 'leq', 'leqq', 'less', 'lim', 'ln', 'log', 'm', 'mapsto',\n",
        "                    'max', 'min', 'minus', 'mu', 'n', 'nabla', 'neg', 'nine', 'notequal',\n",
        "                    'notin', 'nu', 'o', 'omega', 'one', 'oplus', 'otimes', 'overline',\n",
        "                    'p', 'partial', 'period', 'perp', 'phi', 'pi', 'plus', 'pm', 'prec',\n",
        "                    'prime', 'prod', 'psi', 'q', 'r', 'rangle', 'rho', 'rightarrow',\n",
        "                    's', 'semicolon', 'seven', 'sigma', 'sim', 'six', 'slash', 'sqrt',\n",
        "                    'subset', 'sum', 'sup', 'supset', 't', 'tau', 'theta', 'three',\n",
        "                    'tilde', 'times', 'two', 'u', 'underline', 'v', 'varepsilon',\n",
        "                    'varliminf', 'varlimsup', 'varphi', 'varrho', 'vec', 'vert',\n",
        "                    'w', 'wedge', 'x', 'xi', 'y', 'z', 'zero', 'zeta'])\n",
        "model1 = keras.models.load_model(\"good_model.h5\")\n",
        "\n",
        "url=\"https://external-content.duckduckgo.com/iu/?u=https%3A%2F%2Fi.stack.imgur.com%2Fjg6fe.png&f=1&nofb=1\"\n",
        "#image = io.imread(url)\n",
        "\n",
        "image = cv2.imread(\"download.png\")\n",
        "gray = cv2.cvtColor(image, cv2.COLOR_BGR2GRAY)\n",
        "thresh = cv2.threshold(gray, 0, 255,\n",
        "    cv2.THRESH_BINARY_INV | cv2.THRESH_OTSU)[1]\n",
        "\n",
        "eqn_line = []\n",
        "for num, i in enumerate(thresh[:,0]):\n",
        "    if not np.all(~thresh[num,:]):\n",
        "        eqn_line.append(num)\n",
        "eqn_line = np.array(eqn_line)\n",
        "stop = np.where(abs(np.diff(eqn_line))>1)[0]\n",
        "start = np.where(abs(np.diff(eqn_line))>1)[0]+1\n",
        "sy_stop = eqn_line[stop]\n",
        "sy_start = eqn_line[start]\n",
        "\n",
        "if len(start):\n",
        "  for i in range(len(sy_start)+1):\n",
        "    if i==0:\n",
        "\n",
        "        out = thresh[eqn_line[0]:sy_stop[0],:]\n",
        "    elif i == len(sy_stop):\n",
        "        out = thresh[sy_start[-1]:eqn_line[-1],:]\n",
        "    else:\n",
        "\n",
        "        out = thresh[sy_start[i-1]:sy_stop[i],:]\n",
        "    crop_chars(out)\n",
        "else:\n",
        "  crop_chars(thresh)\n"
      ],
      "execution_count": null,
      "outputs": [
        {
          "output_type": "stream",
          "text": [
            "semicolon (0.483)... second option --> xi (0.158)\n"
          ],
          "name": "stdout"
        },
        {
          "output_type": "display_data",
          "data": {
            "image/png": "[encoded data removed]",
            "text/plain": [
              "<Figure size 432x288 with 1 Axes>"
            ]
          },
          "metadata": {
            "tags": [],
            "needs_background": "light"
          }
        },
        {
          "output_type": "stream",
          "text": [
            "p (1.0)... second option --> P (1.48e-06)\n"
          ],
          "name": "stdout"
        },
        {
          "output_type": "display_data",
          "data": {
            "image/png": "[encoded data removed]",
            "text/plain": [
              "<Figure size 432x288 with 1 Axes>"
            ]
          },
          "metadata": {
            "tags": [],
            "needs_background": "light"
          }
        },
        {
          "output_type": "stream",
          "text": [
            "LeftPar (1.0)... second option --> BigLeftPar (1.82e-07)\n"
          ],
          "name": "stdout"
        },
        {
          "output_type": "display_data",
          "data": {
            "image/png": "[encoded data removed]",
            "text/plain": [
              "<Figure size 432x288 with 1 Axes>"
            ]
          },
          "metadata": {
            "tags": [],
            "needs_background": "light"
          }
        },
        {
          "output_type": "stream",
          "text": [
            "Z (0.955)... second option --> z (0.039)\n"
          ],
          "name": "stdout"
        },
        {
          "output_type": "display_data",
          "data": {
            "image/png": "[encoded data removed]",
            "text/plain": [
              "<Figure size 432x288 with 1 Axes>"
            ]
          },
          "metadata": {
            "tags": [],
            "needs_background": "light"
          }
        },
        {
          "output_type": "stream",
          "text": [
            "comma (0.901)... second option --> one (0.0433)\n"
          ],
          "name": "stdout"
        },
        {
          "output_type": "display_data",
          "data": {
            "image/png": "[encoded data removed]",
            "text/plain": [
              "<Figure size 432x288 with 1 Axes>"
            ]
          },
          "metadata": {
            "tags": [],
            "needs_background": "light"
          }
        },
        {
          "output_type": "stream",
          "text": [
            "t (1.0)... second option --> i (3.08e-05)\n"
          ],
          "name": "stdout"
        },
        {
          "output_type": "display_data",
          "data": {
            "image/png": "[encoded data removed]",
            "text/plain": [
              "<Figure size 432x288 with 1 Axes>"
            ]
          },
          "metadata": {
            "tags": [],
            "needs_background": "light"
          }
        },
        {
          "output_type": "stream",
          "text": [
            "RightPar (1.0)... second option --> rangle (5.82e-08)\n"
          ],
          "name": "stdout"
        },
        {
          "output_type": "display_data",
          "data": {
            "image/png": "[encoded data removed]",
            "text/plain": [
              "<Figure size 432x288 with 1 Axes>"
            ]
          },
          "metadata": {
            "tags": [],
            "needs_background": "light"
          }
        },
        {
          "output_type": "stream",
          "text": [
            "equal (1.0)... second option --> Ext (1.77e-05)\n"
          ],
          "name": "stdout"
        },
        {
          "output_type": "display_data",
          "data": {
            "image/png": "[encoded data removed]",
            "text/plain": [
              "<Figure size 432x288 with 1 Axes>"
            ]
          },
          "metadata": {
            "tags": [],
            "needs_background": "light"
          }
        },
        {
          "output_type": "stream",
          "text": [
            "minus (0.797)... second option --> frac (0.107)\n"
          ],
          "name": "stdout"
        },
        {
          "output_type": "display_data",
          "data": {
            "image/png": "[encoded data removed]",
            "text/plain": [
              "<Figure size 432x288 with 1 Axes>"
            ]
          },
          "metadata": {
            "tags": [],
            "needs_background": "light"
          }
        },
        {
          "output_type": "stream",
          "text": [
            "sum (0.411)... second option --> f (0.231)\n"
          ],
          "name": "stdout"
        },
        {
          "output_type": "display_data",
          "data": {
            "image/png": "[encoded data removed]",
            "text/plain": [
              "<Figure size 432x288 with 1 Axes>"
            ]
          },
          "metadata": {
            "tags": [],
            "needs_background": "light"
          }
        },
        {
          "output_type": "stream",
          "text": [
            "lambda (0.573)... second option --> one (0.246)\n"
          ],
          "name": "stdout"
        },
        {
          "output_type": "display_data",
          "data": {
            "image/png": "[encoded data removed]",
            "text/plain": [
              "<Figure size 432x288 with 1 Axes>"
            ]
          },
          "metadata": {
            "tags": [],
            "needs_background": "light"
          }
        },
        {
          "output_type": "stream",
          "text": [
            "BigLeftPar (1.0)... second option --> LeftPar (4.85e-05)\n"
          ],
          "name": "stdout"
        },
        {
          "output_type": "display_data",
          "data": {
            "image/png": "[encoded data removed]",
            "text/plain": [
              "<Figure size 432x288 with 1 Axes>"
            ]
          },
          "metadata": {
            "tags": [],
            "needs_background": "light"
          }
        },
        {
          "output_type": "stream",
          "text": [
            "A (1.0)... second option --> Lambda (3.68e-05)\n"
          ],
          "name": "stdout"
        },
        {
          "output_type": "display_data",
          "data": {
            "image/png": "[encoded data removed]",
            "text/plain": [
              "<Figure size 432x288 with 1 Axes>"
            ]
          },
          "metadata": {
            "tags": [],
            "needs_background": "light"
          }
        },
        {
          "output_type": "stream",
          "text": [
            "i (1.0)... second option --> five (8.2e-05)\n"
          ],
          "name": "stdout"
        },
        {
          "output_type": "display_data",
          "data": {
            "image/png": "[encoded data removed]",
            "text/plain": [
              "<Figure size 432x288 with 1 Axes>"
            ]
          },
          "metadata": {
            "tags": [],
            "needs_background": "light"
          }
        },
        {
          "output_type": "stream",
          "text": [
            "LeftPar (1.0)... second option --> BigLeftPar (1.82e-07)\n"
          ],
          "name": "stdout"
        },
        {
          "output_type": "display_data",
          "data": {
            "image/png": "[encoded data removed]",
            "text/plain": [
              "<Figure size 432x288 with 1 Axes>"
            ]
          },
          "metadata": {
            "tags": [],
            "needs_background": "light"
          }
        },
        {
          "output_type": "stream",
          "text": [
            "Z (0.955)... second option --> z (0.039)\n"
          ],
          "name": "stdout"
        },
        {
          "output_type": "display_data",
          "data": {
            "image/png": "[encoded data removed]",
            "text/plain": [
              "<Figure size 432x288 with 1 Axes>"
            ]
          },
          "metadata": {
            "tags": [],
            "needs_background": "light"
          }
        },
        {
          "output_type": "stream",
          "text": [
            "comma (0.762)... second option --> one (0.18)\n"
          ],
          "name": "stdout"
        },
        {
          "output_type": "display_data",
          "data": {
            "image/png": "[encoded data removed]",
            "text/plain": [
              "<Figure size 432x288 with 1 Axes>"
            ]
          },
          "metadata": {
            "tags": [],
            "needs_background": "light"
          }
        },
        {
          "output_type": "stream",
          "text": [
            "t (1.0)... second option --> i (3.08e-05)\n"
          ],
          "name": "stdout"
        },
        {
          "output_type": "display_data",
          "data": {
            "image/png": "[encoded data removed]",
            "text/plain": [
              "<Figure size 432x288 with 1 Axes>"
            ]
          },
          "metadata": {
            "tags": [],
            "needs_background": "light"
          }
        },
        {
          "output_type": "stream",
          "text": [
            "RightPar (1.0)... second option --> rangle (5.82e-08)\n"
          ],
          "name": "stdout"
        },
        {
          "output_type": "display_data",
          "data": {
            "image/png": "[encoded data removed]",
            "text/plain": [
              "<Figure size 432x288 with 1 Axes>"
            ]
          },
          "metadata": {
            "tags": [],
            "needs_background": "light"
          }
        },
        {
          "output_type": "stream",
          "text": [
            "p (1.0)... second option --> P (1.48e-06)\n"
          ],
          "name": "stdout"
        },
        {
          "output_type": "display_data",
          "data": {
            "image/png": "[encoded data removed]",
            "text/plain": [
              "<Figure size 432x288 with 1 Axes>"
            ]
          },
          "metadata": {
            "tags": [],
            "needs_background": "light"
          }
        },
        {
          "output_type": "stream",
          "text": [
            "LeftPar (1.0)... second option --> BigLeftPar (1.82e-07)\n"
          ],
          "name": "stdout"
        },
        {
          "output_type": "display_data",
          "data": {
            "image/png": "[encoded data removed]",
            "text/plain": [
              "<Figure size 432x288 with 1 Axes>"
            ]
          },
          "metadata": {
            "tags": [],
            "needs_background": "light"
          }
        },
        {
          "output_type": "stream",
          "text": [
            "Z (0.955)... second option --> z (0.039)\n"
          ],
          "name": "stdout"
        },
        {
          "output_type": "display_data",
          "data": {
            "image/png": "[encoded data removed]",
            "text/plain": [
              "<Figure size 432x288 with 1 Axes>"
            ]
          },
          "metadata": {
            "tags": [],
            "needs_background": "light"
          }
        },
        {
          "output_type": "stream",
          "text": [
            "comma (0.762)... second option --> one (0.18)\n"
          ],
          "name": "stdout"
        },
        {
          "output_type": "display_data",
          "data": {
            "image/png": "[encoded data removed]",
            "text/plain": [
              "<Figure size 432x288 with 1 Axes>"
            ]
          },
          "metadata": {
            "tags": [],
            "needs_background": "light"
          }
        },
        {
          "output_type": "stream",
          "text": [
            "t (1.0)... second option --> i (3.08e-05)\n"
          ],
          "name": "stdout"
        },
        {
          "output_type": "display_data",
          "data": {
            "image/png": "[encoded data removed]",
            "text/plain": [
              "<Figure size 432x288 with 1 Axes>"
            ]
          },
          "metadata": {
            "tags": [],
            "needs_background": "light"
          }
        },
        {
          "output_type": "stream",
          "text": [
            "RightPar (1.0)... second option --> rangle (5.82e-08)\n"
          ],
          "name": "stdout"
        },
        {
          "output_type": "display_data",
          "data": {
            "image/png": "[encoded data removed]",
            "text/plain": [
              "<Figure size 432x288 with 1 Axes>"
            ]
          },
          "metadata": {
            "tags": [],
            "needs_background": "light"
          }
        },
        {
          "output_type": "stream",
          "text": [
            "BigRightPar (0.998)... second option --> l (0.00139)\n"
          ],
          "name": "stdout"
        },
        {
          "output_type": "display_data",
          "data": {
            "image/png": "[encoded data removed]",
            "text/plain": [
              "<Figure size 432x288 with 1 Axes>"
            ]
          },
          "metadata": {
            "tags": [],
            "needs_background": "light"
          }
        },
        {
          "output_type": "stream",
          "text": [
            "plus (0.981)... second option --> vert (0.0111)\n"
          ],
          "name": "stdout"
        },
        {
          "output_type": "display_data",
          "data": {
            "image/png": "[encoded data removed]",
            "text/plain": [
              "<Figure size 432x288 with 1 Axes>"
            ]
          },
          "metadata": {
            "tags": [],
            "needs_background": "light"
          }
        },
        {
          "output_type": "stream",
          "text": [
            "notequal (0.284)... second option --> varphi (0.261)\n"
          ],
          "name": "stdout"
        },
        {
          "output_type": "display_data",
          "data": {
            "image/png": "[encoded data removed]",
            "text/plain": [
              "<Figure size 432x288 with 1 Axes>"
            ]
          },
          "metadata": {
            "tags": [],
            "needs_background": "light"
          }
        },
        {
          "output_type": "stream",
          "text": [
            "MiddleRightPar (0.634)... second option --> semicolon (0.27)\n"
          ],
          "name": "stdout"
        },
        {
          "output_type": "display_data",
          "data": {
            "image/png": "[encoded data removed]",
            "text/plain": [
              "<Figure size 432x288 with 1 Axes>"
            ]
          },
          "metadata": {
            "tags": [],
            "needs_background": "light"
          }
        },
        {
          "output_type": "stream",
          "text": [
            "notin (0.405)... second option --> lambda (0.156)\n"
          ],
          "name": "stdout"
        },
        {
          "output_type": "display_data",
          "data": {
            "image/png": "[encoded data removed]",
            "text/plain": [
              "<Figure size 432x288 with 1 Axes>"
            ]
          },
          "metadata": {
            "tags": [],
            "needs_background": "light"
          }
        },
        {
          "output_type": "stream",
          "text": [
            "BigLeftPar (1.0)... second option --> LeftPar (4.85e-05)\n"
          ],
          "name": "stdout"
        },
        {
          "output_type": "display_data",
          "data": {
            "image/png": "[encoded data removed]",
            "text/plain": [
              "<Figure size 432x288 with 1 Axes>"
            ]
          },
          "metadata": {
            "tags": [],
            "needs_background": "light"
          }
        },
        {
          "output_type": "stream",
          "text": [
            "log (0.978)... second option --> lambda (0.0104)\n"
          ],
          "name": "stdout"
        },
        {
          "output_type": "display_data",
          "data": {
            "image/png": "[encoded data removed]",
            "text/plain": [
              "<Figure size 432x288 with 1 Axes>"
            ]
          },
          "metadata": {
            "tags": [],
            "needs_background": "light"
          }
        },
        {
          "output_type": "stream",
          "text": [
            "LeftPar (1.0)... second option --> BigLeftPar (1.82e-07)\n"
          ],
          "name": "stdout"
        },
        {
          "output_type": "display_data",
          "data": {
            "image/png": "[encoded data removed]",
            "text/plain": [
              "<Figure size 432x288 with 1 Axes>"
            ]
          },
          "metadata": {
            "tags": [],
            "needs_background": "light"
          }
        },
        {
          "output_type": "stream",
          "text": [
            "Z (0.946)... second option --> two (0.0332)\n"
          ],
          "name": "stdout"
        },
        {
          "output_type": "display_data",
          "data": {
            "image/png": "[encoded data removed]",
            "text/plain": [
              "<Figure size 432x288 with 1 Axes>"
            ]
          },
          "metadata": {
            "tags": [],
            "needs_background": "light"
          }
        },
        {
          "output_type": "stream",
          "text": [
            "comma (0.762)... second option --> one (0.18)\n"
          ],
          "name": "stdout"
        },
        {
          "output_type": "display_data",
          "data": {
            "image/png": "[encoded data removed]",
            "text/plain": [
              "<Figure size 432x288 with 1 Axes>"
            ]
          },
          "metadata": {
            "tags": [],
            "needs_background": "light"
          }
        },
        {
          "output_type": "stream",
          "text": [
            "t (1.0)... second option --> iota (0.000136)\n"
          ],
          "name": "stdout"
        },
        {
          "output_type": "display_data",
          "data": {
            "image/png": "[encoded data removed]",
            "text/plain": [
              "<Figure size 432x288 with 1 Axes>"
            ]
          },
          "metadata": {
            "tags": [],
            "needs_background": "light"
          }
        },
        {
          "output_type": "stream",
          "text": [
            "RightPar (1.0)... second option --> rangle (5.82e-08)\n"
          ],
          "name": "stdout"
        },
        {
          "output_type": "display_data",
          "data": {
            "image/png": "[encoded data removed]",
            "text/plain": [
              "<Figure size 432x288 with 1 Axes>"
            ]
          },
          "metadata": {
            "tags": [],
            "needs_background": "light"
          }
        },
        {
          "output_type": "stream",
          "text": [
            "p (1.0)... second option --> P (1.48e-06)\n"
          ],
          "name": "stdout"
        },
        {
          "output_type": "display_data",
          "data": {
            "image/png": "[encoded data removed]",
            "text/plain": [
              "<Figure size 432x288 with 1 Axes>"
            ]
          },
          "metadata": {
            "tags": [],
            "needs_background": "light"
          }
        },
        {
          "output_type": "stream",
          "text": [
            "LeftPar (1.0)... second option --> BigLeftPar (1.18e-07)\n"
          ],
          "name": "stdout"
        },
        {
          "output_type": "display_data",
          "data": {
            "image/png": "[encoded data removed]",
            "text/plain": [
              "<Figure size 432x288 with 1 Axes>"
            ]
          },
          "metadata": {
            "tags": [],
            "needs_background": "light"
          }
        },
        {
          "output_type": "stream",
          "text": [
            "Z (0.946)... second option --> two (0.0332)\n"
          ],
          "name": "stdout"
        },
        {
          "output_type": "display_data",
          "data": {
            "image/png": "[encoded data removed]",
            "text/plain": [
              "<Figure size 432x288 with 1 Axes>"
            ]
          },
          "metadata": {
            "tags": [],
            "needs_background": "light"
          }
        },
        {
          "output_type": "stream",
          "text": [
            "comma (0.762)... second option --> one (0.18)\n"
          ],
          "name": "stdout"
        },
        {
          "output_type": "display_data",
          "data": {
            "image/png": "[encoded data removed]",
            "text/plain": [
              "<Figure size 432x288 with 1 Axes>"
            ]
          },
          "metadata": {
            "tags": [],
            "needs_background": "light"
          }
        },
        {
          "output_type": "stream",
          "text": [
            "t (1.0)... second option --> iota (0.000136)\n"
          ],
          "name": "stdout"
        },
        {
          "output_type": "display_data",
          "data": {
            "image/png": "[encoded data removed]",
            "text/plain": [
              "<Figure size 432x288 with 1 Axes>"
            ]
          },
          "metadata": {
            "tags": [],
            "needs_background": "light"
          }
        },
        {
          "output_type": "stream",
          "text": [
            "RightPar (1.0)... second option --> rangle (5.82e-08)\n"
          ],
          "name": "stdout"
        },
        {
          "output_type": "display_data",
          "data": {
            "image/png": "[encoded data removed]",
            "text/plain": [
              "<Figure size 432x288 with 1 Axes>"
            ]
          },
          "metadata": {
            "tags": [],
            "needs_background": "light"
          }
        },
        {
          "output_type": "stream",
          "text": [
            "BigRightPar (1.0)... second option --> l (0.000253)\n"
          ],
          "name": "stdout"
        },
        {
          "output_type": "display_data",
          "data": {
            "image/png": "[encoded data removed]",
            "text/plain": [
              "<Figure size 432x288 with 1 Axes>"
            ]
          },
          "metadata": {
            "tags": [],
            "needs_background": "light"
          }
        },
        {
          "output_type": "stream",
          "text": [
            "plus (0.981)... second option --> vert (0.0111)\n"
          ],
          "name": "stdout"
        },
        {
          "output_type": "display_data",
          "data": {
            "image/png": "[encoded data removed]",
            "text/plain": [
              "<Figure size 432x288 with 1 Axes>"
            ]
          },
          "metadata": {
            "tags": [],
            "needs_background": "light"
          }
        },
        {
          "output_type": "stream",
          "text": [
            "one (0.257)... second option --> iota (0.194)\n"
          ],
          "name": "stdout"
        },
        {
          "output_type": "display_data",
          "data": {
            "image/png": "[encoded data removed]",
            "text/plain": [
              "<Figure size 432x288 with 1 Axes>"
            ]
          },
          "metadata": {
            "tags": [],
            "needs_background": "light"
          }
        },
        {
          "output_type": "stream",
          "text": [
            "slash (0.995)... second option --> f (0.00387)\n"
          ],
          "name": "stdout"
        },
        {
          "output_type": "display_data",
          "data": {
            "image/png": "[encoded data removed]",
            "text/plain": [
              "<Figure size 432x288 with 1 Axes>"
            ]
          },
          "metadata": {
            "tags": [],
            "needs_background": "light"
          }
        },
        {
          "output_type": "stream",
          "text": [
            "d (1.0)... second option --> l (8.46e-05)\n"
          ],
          "name": "stdout"
        },
        {
          "output_type": "display_data",
          "data": {
            "image/png": "[encoded data removed]",
            "text/plain": [
              "<Figure size 432x288 with 1 Axes>"
            ]
          },
          "metadata": {
            "tags": [],
            "needs_background": "light"
          }
        },
        {
          "output_type": "stream",
          "text": [
            "Y (0.873)... second option --> Gamma (0.0316)\n"
          ],
          "name": "stdout"
        },
        {
          "output_type": "display_data",
          "data": {
            "image/png": "[encoded data removed]",
            "text/plain": [
              "<Figure size 432x288 with 1 Axes>"
            ]
          },
          "metadata": {
            "tags": [],
            "needs_background": "light"
          }
        },
        {
          "output_type": "stream",
          "text": [
            "BigLeftPar (1.0)... second option --> LeftPar (4.85e-05)\n"
          ],
          "name": "stdout"
        },
        {
          "output_type": "display_data",
          "data": {
            "image/png": "[encoded data removed]",
            "text/plain": [
              "<Figure size 432x288 with 1 Axes>"
            ]
          },
          "metadata": {
            "tags": [],
            "needs_background": "light"
          }
        },
        {
          "output_type": "stream",
          "text": [
            "W (1.0)... second option --> w (4.78e-05)\n"
          ],
          "name": "stdout"
        },
        {
          "output_type": "display_data",
          "data": {
            "image/png": "[encoded data removed]",
            "text/plain": [
              "<Figure size 432x288 with 1 Axes>"
            ]
          },
          "metadata": {
            "tags": [],
            "needs_background": "light"
          }
        },
        {
          "output_type": "stream",
          "text": [
            "LeftPar (1.0)... second option --> BigLeftPar (1.82e-07)\n"
          ],
          "name": "stdout"
        },
        {
          "output_type": "display_data",
          "data": {
            "image/png": "[encoded data removed]",
            "text/plain": [
              "<Figure size 432x288 with 1 Axes>"
            ]
          },
          "metadata": {
            "tags": [],
            "needs_background": "light"
          }
        },
        {
          "output_type": "stream",
          "text": [
            "Z (0.955)... second option --> z (0.039)\n"
          ],
          "name": "stdout"
        },
        {
          "output_type": "display_data",
          "data": {
            "image/png": "[encoded data removed]",
            "text/plain": [
              "<Figure size 432x288 with 1 Axes>"
            ]
          },
          "metadata": {
            "tags": [],
            "needs_background": "light"
          }
        },
        {
          "output_type": "stream",
          "text": [
            "vert (0.999)... second option --> MiddleLeftPar (0.000243)\n"
          ],
          "name": "stdout"
        },
        {
          "output_type": "display_data",
          "data": {
            "image/png": "[encoded data removed]",
            "text/plain": [
              "<Figure size 432x288 with 1 Axes>"
            ]
          },
          "metadata": {
            "tags": [],
            "needs_background": "light"
          }
        },
        {
          "output_type": "stream",
          "text": [
            "y (0.313)... second option --> gamma (0.216)\n"
          ],
          "name": "stdout"
        },
        {
          "output_type": "display_data",
          "data": {
            "image/png": "[encoded data removed]",
            "text/plain": [
              "<Figure size 432x288 with 1 Axes>"
            ]
          },
          "metadata": {
            "tags": [],
            "needs_background": "light"
          }
        },
        {
          "output_type": "stream",
          "text": [
            "comma (0.901)... second option --> one (0.0433)\n"
          ],
          "name": "stdout"
        },
        {
          "output_type": "display_data",
          "data": {
            "image/png": "[encoded data removed]",
            "text/plain": [
              "<Figure size 432x288 with 1 Axes>"
            ]
          },
          "metadata": {
            "tags": [],
            "needs_background": "light"
          }
        },
        {
          "output_type": "stream",
          "text": [
            "t (1.0)... second option --> iota (0.000136)\n"
          ],
          "name": "stdout"
        },
        {
          "output_type": "display_data",
          "data": {
            "image/png": "[encoded data removed]",
            "text/plain": [
              "<Figure size 432x288 with 1 Axes>"
            ]
          },
          "metadata": {
            "tags": [],
            "needs_background": "light"
          }
        },
        {
          "output_type": "stream",
          "text": [
            "RightPar (0.99)... second option --> rangle (0.0094)\n"
          ],
          "name": "stdout"
        },
        {
          "output_type": "display_data",
          "data": {
            "image/png": "[encoded data removed]",
            "text/plain": [
              "<Figure size 432x288 with 1 Axes>"
            ]
          },
          "metadata": {
            "tags": [],
            "needs_background": "light"
          }
        },
        {
          "output_type": "stream",
          "text": [
            "p (0.999)... second option --> rho (0.00055)\n"
          ],
          "name": "stdout"
        },
        {
          "output_type": "display_data",
          "data": {
            "image/png": "[encoded data removed]",
            "text/plain": [
              "<Figure size 432x288 with 1 Axes>"
            ]
          },
          "metadata": {
            "tags": [],
            "needs_background": "light"
          }
        },
        {
          "output_type": "stream",
          "text": [
            "LeftPar (1.0)... second option --> BigLeftPar (1.18e-07)\n"
          ],
          "name": "stdout"
        },
        {
          "output_type": "display_data",
          "data": {
            "image/png": "[encoded data removed]",
            "text/plain": [
              "<Figure size 432x288 with 1 Axes>"
            ]
          },
          "metadata": {
            "tags": [],
            "needs_background": "light"
          }
        },
        {
          "output_type": "stream",
          "text": [
            "Z (0.946)... second option --> two (0.0332)\n"
          ],
          "name": "stdout"
        },
        {
          "output_type": "display_data",
          "data": {
            "image/png": "[encoded data removed]",
            "text/plain": [
              "<Figure size 432x288 with 1 Axes>"
            ]
          },
          "metadata": {
            "tags": [],
            "needs_background": "light"
          }
        },
        {
          "output_type": "stream",
          "text": [
            "comma (0.901)... second option --> one (0.0433)\n"
          ],
          "name": "stdout"
        },
        {
          "output_type": "display_data",
          "data": {
            "image/png": "[encoded data removed]",
            "text/plain": [
              "<Figure size 432x288 with 1 Axes>"
            ]
          },
          "metadata": {
            "tags": [],
            "needs_background": "light"
          }
        },
        {
          "output_type": "stream",
          "text": [
            "t (1.0)... second option --> iota (0.000136)\n"
          ],
          "name": "stdout"
        },
        {
          "output_type": "display_data",
          "data": {
            "image/png": "[encoded data removed]",
            "text/plain": [
              "<Figure size 432x288 with 1 Axes>"
            ]
          },
          "metadata": {
            "tags": [],
            "needs_background": "light"
          }
        },
        {
          "output_type": "stream",
          "text": [
            "RightPar (0.99)... second option --> rangle (0.0094)\n"
          ],
          "name": "stdout"
        },
        {
          "output_type": "display_data",
          "data": {
            "image/png": "[encoded data removed]",
            "text/plain": [
              "<Figure size 432x288 with 1 Axes>"
            ]
          },
          "metadata": {
            "tags": [],
            "needs_background": "light"
          }
        },
        {
          "output_type": "stream",
          "text": [
            "minus (0.753)... second option --> frac (0.128)\n"
          ],
          "name": "stdout"
        },
        {
          "output_type": "display_data",
          "data": {
            "image/png": "[encoded data removed]",
            "text/plain": [
              "<Figure size 432x288 with 1 Axes>"
            ]
          },
          "metadata": {
            "tags": [],
            "needs_background": "light"
          }
        },
        {
          "output_type": "stream",
          "text": [
            "W (0.999)... second option --> N (0.000738)\n"
          ],
          "name": "stdout"
        },
        {
          "output_type": "display_data",
          "data": {
            "image/png": "[encoded data removed]",
            "text/plain": [
              "<Figure size 432x288 with 1 Axes>"
            ]
          },
          "metadata": {
            "tags": [],
            "needs_background": "light"
          }
        },
        {
          "output_type": "stream",
          "text": [
            "LeftPar (1.0)... second option --> BigLeftPar (1.82e-07)\n"
          ],
          "name": "stdout"
        },
        {
          "output_type": "display_data",
          "data": {
            "image/png": "[encoded data removed]",
            "text/plain": [
              "<Figure size 432x288 with 1 Axes>"
            ]
          },
          "metadata": {
            "tags": [],
            "needs_background": "light"
          }
        },
        {
          "output_type": "stream",
          "text": [
            "Y (0.873)... second option --> Gamma (0.0316)\n"
          ],
          "name": "stdout"
        },
        {
          "output_type": "display_data",
          "data": {
            "image/png": "[encoded data removed]",
            "text/plain": [
              "<Figure size 432x288 with 1 Axes>"
            ]
          },
          "metadata": {
            "tags": [],
            "needs_background": "light"
          }
        },
        {
          "output_type": "stream",
          "text": [
            "vert (0.999)... second option --> MiddleRightPar (0.000299)\n"
          ],
          "name": "stdout"
        },
        {
          "output_type": "display_data",
          "data": {
            "image/png": "[encoded data removed]",
            "text/plain": [
              "<Figure size 432x288 with 1 Axes>"
            ]
          },
          "metadata": {
            "tags": [],
            "needs_background": "light"
          }
        },
        {
          "output_type": "stream",
          "text": [
            "Z (0.955)... second option --> z (0.039)\n"
          ],
          "name": "stdout"
        },
        {
          "output_type": "display_data",
          "data": {
            "image/png": "[encoded data removed]",
            "text/plain": [
              "<Figure size 432x288 with 1 Axes>"
            ]
          },
          "metadata": {
            "tags": [],
            "needs_background": "light"
          }
        },
        {
          "output_type": "stream",
          "text": [
            "comma (0.901)... second option --> one (0.0433)\n"
          ],
          "name": "stdout"
        },
        {
          "output_type": "display_data",
          "data": {
            "image/png": "[encoded data removed]",
            "text/plain": [
              "<Figure size 432x288 with 1 Axes>"
            ]
          },
          "metadata": {
            "tags": [],
            "needs_background": "light"
          }
        },
        {
          "output_type": "stream",
          "text": [
            "t (1.0)... second option --> i (3.08e-05)\n"
          ],
          "name": "stdout"
        },
        {
          "output_type": "display_data",
          "data": {
            "image/png": "[encoded data removed]",
            "text/plain": [
              "<Figure size 432x288 with 1 Axes>"
            ]
          },
          "metadata": {
            "tags": [],
            "needs_background": "light"
          }
        },
        {
          "output_type": "stream",
          "text": [
            "RightPar (1.0)... second option --> rangle (5.82e-08)\n"
          ],
          "name": "stdout"
        },
        {
          "output_type": "display_data",
          "data": {
            "image/png": "[encoded data removed]",
            "text/plain": [
              "<Figure size 432x288 with 1 Axes>"
            ]
          },
          "metadata": {
            "tags": [],
            "needs_background": "light"
          }
        },
        {
          "output_type": "stream",
          "text": [
            "p (1.0)... second option --> P (1.48e-06)\n"
          ],
          "name": "stdout"
        },
        {
          "output_type": "display_data",
          "data": {
            "image/png": "[encoded data removed]",
            "text/plain": [
              "<Figure size 432x288 with 1 Axes>"
            ]
          },
          "metadata": {
            "tags": [],
            "needs_background": "light"
          }
        },
        {
          "output_type": "stream",
          "text": [
            "LeftPar (1.0)... second option --> BigLeftPar (1.82e-07)\n"
          ],
          "name": "stdout"
        },
        {
          "output_type": "display_data",
          "data": {
            "image/png": "[encoded data removed]",
            "text/plain": [
              "<Figure size 432x288 with 1 Axes>"
            ]
          },
          "metadata": {
            "tags": [],
            "needs_background": "light"
          }
        },
        {
          "output_type": "stream",
          "text": [
            "Z (0.955)... second option --> z (0.039)\n"
          ],
          "name": "stdout"
        },
        {
          "output_type": "display_data",
          "data": {
            "image/png": "[encoded data removed]",
            "text/plain": [
              "<Figure size 432x288 with 1 Axes>"
            ]
          },
          "metadata": {
            "tags": [],
            "needs_background": "light"
          }
        },
        {
          "output_type": "stream",
          "text": [
            "comma (0.901)... second option --> one (0.0433)\n"
          ],
          "name": "stdout"
        },
        {
          "output_type": "display_data",
          "data": {
            "image/png": "[encoded data removed]",
            "text/plain": [
              "<Figure size 432x288 with 1 Axes>"
            ]
          },
          "metadata": {
            "tags": [],
            "needs_background": "light"
          }
        },
        {
          "output_type": "stream",
          "text": [
            "t (1.0)... second option --> i (3.08e-05)\n"
          ],
          "name": "stdout"
        },
        {
          "output_type": "display_data",
          "data": {
            "image/png": "[encoded data removed]",
            "text/plain": [
              "<Figure size 432x288 with 1 Axes>"
            ]
          },
          "metadata": {
            "tags": [],
            "needs_background": "light"
          }
        },
        {
          "output_type": "stream",
          "text": [
            "RightPar (1.0)... second option --> rangle (5.82e-08)\n"
          ],
          "name": "stdout"
        },
        {
          "output_type": "display_data",
          "data": {
            "image/png": "[encoded data removed]",
            "text/plain": [
              "<Figure size 432x288 with 1 Axes>"
            ]
          },
          "metadata": {
            "tags": [],
            "needs_background": "light"
          }
        },
        {
          "output_type": "stream",
          "text": [
            "BigRightPar (0.998)... second option --> l (0.00139)\n"
          ],
          "name": "stdout"
        },
        {
          "output_type": "display_data",
          "data": {
            "image/png": "[encoded data removed]",
            "text/plain": [
              "<Figure size 432x288 with 1 Axes>"
            ]
          },
          "metadata": {
            "tags": [],
            "needs_background": "light"
          }
        },
        {
          "output_type": "stream",
          "text": [
            "LeftPar (1.0)... second option --> BigLeftPar (7.61e-06)\n"
          ],
          "name": "stdout"
        },
        {
          "output_type": "display_data",
          "data": {
            "image/png": "[encoded data removed]",
            "text/plain": [
              "<Figure size 432x288 with 1 Axes>"
            ]
          },
          "metadata": {
            "tags": [],
            "needs_background": "light"
          }
        },
        {
          "output_type": "stream",
          "text": [
            "one (1.0)... second option --> l (2.26e-06)\n"
          ],
          "name": "stdout"
        },
        {
          "output_type": "display_data",
          "data": {
            "image/png": "[encoded data removed]",
            "text/plain": [
              "<Figure size 432x288 with 1 Axes>"
            ]
          },
          "metadata": {
            "tags": [],
            "needs_background": "light"
          }
        },
        {
          "output_type": "stream",
          "text": [
            "RightPar (1.0)... second option --> MiddleRightPar (1.7e-07)\n"
          ],
          "name": "stdout"
        },
        {
          "output_type": "display_data",
          "data": {
            "image/png": "[encoded data removed]",
            "text/plain": [
              "<Figure size 432x288 with 1 Axes>"
            ]
          },
          "metadata": {
            "tags": [],
            "needs_background": "light"
          }
        }
      ]
    },
    {
      "cell_type": "code",
      "metadata": {
        "id": "uy-3ZA25ltum"
      },
      "source": [
        "model.save(\"good_model.h5\")"
      ],
      "execution_count": null,
      "outputs": []
    },
    {
      "cell_type": "code",
      "metadata": {
        "id": "7OM_MYg3Rm9l"
      },
      "source": [
        "model1 = keras.models.load_model(\"good_model.h5\")"
      ],
      "execution_count": null,
      "outputs": []
    },
    {
      "cell_type": "code",
      "metadata": {
        "id": "0mKElGKrU7Fr"
      },
      "source": [
        "!tar -czvf Images.tar.gz Images/"
      ],
      "execution_count": null,
      "outputs": []
    },
    {
      "cell_type": "code",
      "metadata": {
        "id": "dMNTgQhAqFIM"
      },
      "source": [],
      "execution_count": null,
      "outputs": []
    }
  ]
}